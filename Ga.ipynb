{
 "cells": [
  {
   "cell_type": "markdown",
   "metadata": {},
   "source": [
    "# Outline\n",
    "\n",
    "1. Key difference between RL and other AI fields\n",
    "2. Genetic algorithm intuition on the example of real life evolution( birds example from blogpost, or how dogs were domesticated)\n",
    "3. Key parts of GA(initial population, fitness function, selection, crossover, mutation)\n",
    "\n",
    "4. Coding simple GA (dot product example, or guessing password)\n"
   ]
  },
  {
   "cell_type": "markdown",
   "metadata": {},
   "source": [
    "Հիմնականում կամ դատա ենք ունենում x, y, կամ մենակ x ու ինչ-որ unsuvervised բան ենք անում, բայց ինչ եթե ոչ են ունենք ոչ են, բայց կարանք պռինցիպի ստանանանք։ Սենց օրինակ, ուզում ենք Mario խաղը խաղացող մոդել սարքենք։ Կարանք Վերցնենք մարիոն խաղանք, գրանցենք մեր քայլերը, ու գրանցեք թե կարացանք թագուհուն ազատենք թե չէ։ Հիմա ես ալգոիթմը որ անելու ենք եսօչ Genetic algorithm ա կոչվում, ինքը էվոլյուցիաիցա ոգեշնցված, եկեք նայենք ոնցա էվոլյուցիան աշխատում։ \n"
   ]
  },
  {
   "cell_type": "markdown",
   "metadata": {},
   "source": [
    "**Ես ծիտիկների օրինակով նայենք, երևի տեսել եք որ սենց թռչեն**\n",
    "\n",
    "<img src = 'birds_V_shape.jpg'>\n"
   ]
  },
  {
   "cell_type": "markdown",
   "metadata": {},
   "source": [
    "եկեք ասենք որ իրանք որոշում են կայացնում կախված իրանց գեներից։ Քանի որ էո մեր էվոլյուցիան չի կարա ամեն տեսակի գեն փորձի, պետքա միքիչ ավելի խելացի ձև մտածի։ \n",
    "\n",
    "Ես ծիտիկները թռչում են գնում են տաք երկրներ, ու ստացվումա ով որ չկարացավ թռչի հասնի, մահանալույա ու հետևաբար փուճուր ծիտիկներ չի ունենալու, որ գենը փոխանցի։\n",
    "\n",
    "Հիմա կլինին ծտեր որ շատ ագռեսիվ կլինեն, մի մասը չի համագործակցի ուրիշների հետ, կհանեն ոհմակից և այլն, ստավումա իրանք չեն փոխանցի գեները, որիշ ձև ասած գոյատևում են ամենաուժեղները։"
   ]
  },
  {
   "cell_type": "markdown",
   "metadata": {},
   "source": [
    "ետ տաք երկրներում կմնան ուժեղ լավ ծիտիկները, իրանց երեխեքնել իրանցից որոշ գեներ կժառանգեն ու հավանաբար ավելի լավ սերունդ կստանանք։ Հետո նույնը կկրկնվի, վատերը կմեռնեն, լավերից նոր սերունդ կստանանք ու տենց կամաց կամաց վերջը եկելեն ես եռանկյունաձև շարվածքին որի օպտիմալ լինելու ֆիզիկական հիմնավորումը չեմ հիշում բայց լինքը կթողեմ։"
   ]
  },
  {
   "cell_type": "code",
   "execution_count": null,
   "metadata": {},
   "outputs": [],
   "source": []
  }
 ],
 "metadata": {
  "kernelspec": {
   "display_name": "Python 3",
   "language": "python",
   "name": "python3"
  },
  "language_info": {
   "codemirror_mode": {
    "name": "ipython",
    "version": 3
   },
   "file_extension": ".py",
   "mimetype": "text/x-python",
   "name": "python",
   "nbconvert_exporter": "python",
   "pygments_lexer": "ipython3",
   "version": "3.7.3"
  }
 },
 "nbformat": 4,
 "nbformat_minor": 4
}
