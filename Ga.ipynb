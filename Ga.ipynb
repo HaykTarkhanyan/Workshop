{
 "cells": [
  {
   "cell_type": "markdown",
   "metadata": {},
   "source": [
    "# Outline\n",
    "\n",
    "1. Key difference between RL and other AI fields\n",
    "2. Genetic algorithm intuition on the example of real life evolution( birds example from blogpost, or how dogs were domesticated)\n",
    "3. Key parts of GA(initial population, fitness function, selection, crossover, mutation)\n",
    "\n",
    "4. Coding simple GA (dot product example, or guessing password)\n"
   ]
  },
  {
   "cell_type": "code",
   "execution_count": null,
   "metadata": {},
   "outputs": [],
   "source": []
  }
 ],
 "metadata": {
  "kernelspec": {
   "display_name": "Python 3",
   "language": "python",
   "name": "python3"
  },
  "language_info": {
   "codemirror_mode": {
    "name": "ipython",
    "version": 3
   },
   "file_extension": ".py",
   "mimetype": "text/x-python",
   "name": "python",
   "nbconvert_exporter": "python",
   "pygments_lexer": "ipython3",
   "version": "3.7.3"
  }
 },
 "nbformat": 4,
 "nbformat_minor": 4
}
