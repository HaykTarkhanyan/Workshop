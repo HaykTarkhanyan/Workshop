{
 "cells": [
  {
   "cell_type": "markdown",
   "metadata": {},
   "source": [
    "### 1. Images as functions(visualize in 3d)\n",
    "### 2. Types of noises(Gaussian, salt and pepper)\n",
    "### 3. What is a filter\n",
    "### 4. 1D avegaring filter\n",
    "### 5. maybe image sharpening\n",
    "### 3. How to deal with noises(Gaussian filter, median filter)\n",
    "### 10. Template matching(where is Valod, cars example)\n",
    "### 4. What are edges\n",
    "### 5. Direvating image\n",
    "### 6. Sobel operator\n",
    "### 7. Adding images with sobel in x,y directions\n",
    "### 8. Thresholding\n",
    "### 9. IF there is time Canny edge detector\n",
    "### 10. Fitting line using edge pixels\n",
    "### 11.  Hough parametric space\n",
    "### 12. New representation of the line\n",
    "### 13. Sinusoids and accumat.. matrix"
   ]
  },
  {
   "cell_type": "markdown",
   "metadata": {},
   "source": [
    "# Images as functions"
   ]
  },
  {
   "cell_type": "code",
   "execution_count": null,
   "metadata": {
    "scrolled": true
   },
   "outputs": [],
   "source": [
    "from IPython.display import Image\n",
    "\n",
    "Image(\"abo.png\")\n"
   ]
  },
  {
   "cell_type": "markdown",
   "metadata": {},
   "source": [
    "# f(0,0) = 157\n",
    "# f(x,y) = k"
   ]
  },
  {
   "cell_type": "markdown",
   "metadata": {},
   "source": [
    "<div style=\"height: 0; padding-bottom: calc(56.25% + 35px); position:relative; width: 100%;\"><iframe allow=\"autoplay; gyroscope;\" allowfullscreen height=\"100%\" referrerpolicy=\"strict-origin\" src=\"https://www.kapwing.com/e/5f23d71f85726400159680d1\" style=\"border:0; height:100%; left:0; overflow:hidden; position:absolute; top:0; width:100%\" title=\"Embedded content made with Kapwing\" width=\"100%\"></iframe></div>"
   ]
  },
  {
   "cell_type": "markdown",
   "metadata": {},
   "source": [
    "# anci matematica stexic(gaussian noise i masinel xosa)"
   ]
  },
  {
   "cell_type": "markdown",
   "metadata": {},
   "source": [
    "# 2 Types of noise"
   ]
  },
  {
   "cell_type": "code",
   "execution_count": null,
   "metadata": {},
   "outputs": [],
   "source": [
    "import numpy as np\n",
    "import matplotlib.pyplot as plt\n",
    "import cv2\n",
    "\n",
    "img = cv2.imread('mario.jpg')\n",
    "\n",
    "\n",
    "plt.figure(figsize=(15,9))\n",
    "plt.imshow(img[:,:,::-1] ) # [:,:,::-1]\n",
    "\n"
   ]
  },
  {
   "cell_type": "markdown",
   "metadata": {},
   "source": [
    "# gaussian, normal noise"
   ]
  },
  {
   "cell_type": "code",
   "execution_count": null,
   "metadata": {},
   "outputs": [],
   "source": [
    "SIGMA = 1\n",
    "\n",
    "gauss = np.random.normal(0,SIGMA,img.size)\n",
    "gauss = gauss.reshape(img.shape[0],img.shape[1],img.shape[2]).astype('uint8')\n",
    "# Add the Gaussian noise to the image\n",
    "img_gauss = cv2.add(img,gauss)\n",
    "# Display the image\n",
    "\n",
    "f, axes = plt.subplots(figsize=(30,20))\n",
    "\n",
    "plt.subplot(121),\n",
    "plt.imshow(img[:,:,::-1])\n",
    "plt.title('skzbnakan'), plt.xticks([]), plt.yticks([])\n",
    "plt.subplot(122),plt.imshow(img_gauss[:,:,::-1])\n",
    "plt.title(f'gaussian noise -> {SIGMA}'), plt.xticks([]), plt.yticks([])\n",
    "#\n",
    "\n"
   ]
  },
  {
   "cell_type": "code",
   "execution_count": null,
   "metadata": {},
   "outputs": [],
   "source": [
    "\n",
    "img = cv2.imread('mario.jpg')\n",
    "# img = cv2.cvtColor(img, cv2.COLOR_BGR2GRAY)\n",
    "plt.plot((img)[150])"
   ]
  },
  {
   "cell_type": "markdown",
   "metadata": {},
   "source": [
    "<table><tr>\n",
    "<td> <img src=\"unif.png\" alt=\"Drawing\" style=\"width: 600px;\"/> </td>\n",
    "<td> <img src=\"gauss.png\" alt=\"Drawing\" style=\"width: 600px;\"/> </td>\n",
    "</tr></table>"
   ]
  },
  {
   "cell_type": "code",
   "execution_count": null,
   "metadata": {},
   "outputs": [],
   "source": [
    "Image('scr.png')"
   ]
  },
  {
   "cell_type": "code",
   "execution_count": null,
   "metadata": {},
   "outputs": [],
   "source": [
    "Image('gauss_kernel.png')"
   ]
  },
  {
   "cell_type": "markdown",
   "metadata": {},
   "source": [
    "# Gna matematica"
   ]
  },
  {
   "cell_type": "markdown",
   "metadata": {},
   "source": [
    "# Salt and pepper"
   ]
  },
  {
   "cell_type": "code",
   "execution_count": null,
   "metadata": {},
   "outputs": [],
   "source": [
    "# coding: utf-8\n",
    "\n",
    "import numpy as np\n",
    "import cv2\n",
    "from matplotlib import pyplot as plt\n",
    "\n",
    "def addsalt_pepper(img, SNR):\n",
    "    img_ = img.copy()\n",
    "    c, h, w = img_.shape\n",
    "    mask = np.random.choice((0, 1, 2), size=(1, h, w), p=[SNR, (1 - SNR) / 2., (1 - SNR) / 2.])\n",
    "    Mask = np.repeat(mask, c, axis=0) # Copy by channel to have the same shape as img\n",
    "    \n",
    "    img_[Mask == 1] = 255 # salt noise\n",
    "    img_[Mask == 2] = 0 # \n",
    "\n",
    "    return img_\n",
    "\n",
    "\n",
    "img = cv2.imread('mario.jpg')\n",
    "\n",
    "SNR_list = [0.8]\n",
    "sub_plot = [221, 222, 223, 224]\n",
    "\n",
    "plt.figure(figsize=(15,10))\n",
    "i=0\n",
    "# plt.subplot(sub_plot[1])\n",
    "img_s = addsalt_pepper(img.transpose(2, 1, 0), SNR_list[i])     # c,\n",
    "img_s = img_s.transpose(2, 1, 0)\n",
    "#     cv2.imshow('PepperandSalt', img_s)\n",
    "#     cv2.waitKey(0)\n",
    "plt.imshow(img_s[:,:,::-1])     # bgr --> rgb\n",
    "plt.title('add salt pepper noise(SNR={})'.format(SNR_list[i]))  \n",
    "\n",
    "plt.show()"
   ]
  },
  {
   "cell_type": "code",
   "execution_count": null,
   "metadata": {},
   "outputs": [],
   "source": [
    "median_blur= cv2.medianBlur(img_s, 3)\n",
    "plt.figure(figsize=(15,10))\n",
    "plt.imshow(median_blur[:,:,::-1])"
   ]
  },
  {
   "cell_type": "markdown",
   "metadata": {},
   "source": [
    "# Template Matching"
   ]
  },
  {
   "cell_type": "code",
   "execution_count": null,
   "metadata": {},
   "outputs": [],
   "source": []
  },
  {
   "cell_type": "code",
   "execution_count": null,
   "metadata": {},
   "outputs": [],
   "source": [
    "Image('temp.png')"
   ]
  },
  {
   "cell_type": "code",
   "execution_count": null,
   "metadata": {},
   "outputs": [],
   "source": [
    "Image('valod.jpg',height=200, width=900, )"
   ]
  },
  {
   "cell_type": "code",
   "execution_count": null,
   "metadata": {},
   "outputs": [],
   "source": [
    "Image('template.jpg')"
   ]
  },
  {
   "cell_type": "code",
   "execution_count": null,
   "metadata": {},
   "outputs": [],
   "source": [
    "import cv2\n",
    "import numpy as np\n",
    "from matplotlib import pyplot as plt\n",
    "\n",
    "img = cv2.imread('valod.jpg',0)\n",
    "img2 = img.copy()\n",
    "im = img.copy()\n",
    "template = cv2.imread('template.jpg',0)\n",
    "w, h = template.shape[::-1]\n",
    "\n",
    "# All the 6 methods for comparison in a list\n",
    "methods = ['cv2.TM_CCOEFF']\n",
    "for meth in methods:\n",
    "    img = img2.copy()\n",
    "    method = eval(meth)\n",
    "\n",
    "    # Apply template Matching\n",
    "    res = cv2.matchTemplate(img,template,method)\n",
    "    min_val, max_val, min_loc, max_loc = cv2.minMaxLoc(res)\n",
    "\n",
    "    # If the method is TM_SQDIFF or TM_SQDIFF_NORMED, take minimum\n",
    "    if method in [cv2.TM_SQDIFF, cv2.TM_SQDIFF_NORMED]:\n",
    "        top_left = min_loc\n",
    "    else:\n",
    "        top_left = max_loc\n",
    "    bottom_right = (top_left[0] + w, top_left[1] + h)\n",
    "\n",
    "    cv2.rectangle(img,top_left, bottom_right, 0, 2)\n",
    "    \n",
    "    f, axes = plt.subplots(figsize=(30,20))\n",
    "\n",
    "    plt.subplot(121),\n",
    "    plt.imshow(res,cmap = 'gray')\n",
    "    plt.title('Matching Result'), plt.xticks([]), plt.yticks([])\n",
    "    plt.subplot(122),plt.imshow(img,cmap = 'gray')\n",
    "    plt.title('Detected Point'), plt.xticks([]), plt.yticks([])\n",
    "#     plt.suptitle(meth)\n",
    "\n",
    "    plt.show()"
   ]
  },
  {
   "cell_type": "code",
   "execution_count": null,
   "metadata": {},
   "outputs": [],
   "source": [
    "Image('car.png')"
   ]
  },
  {
   "cell_type": "markdown",
   "metadata": {},
   "source": [
    "# Derivatives"
   ]
  },
  {
   "cell_type": "code",
   "execution_count": null,
   "metadata": {},
   "outputs": [],
   "source": [
    "Video('deriv.mp4')"
   ]
  },
  {
   "cell_type": "code",
   "execution_count": null,
   "metadata": {},
   "outputs": [],
   "source": [
    "Image('abo.png')"
   ]
  },
  {
   "cell_type": "code",
   "execution_count": null,
   "metadata": {},
   "outputs": [],
   "source": [
    "import numpy as np\n",
    "import cv2\n",
    "import matplotlib.pyplot as plt\n",
    "\n",
    "#read image\n",
    "img = cv2.imread('mario.jpg')\n",
    "\n",
    "img = cv2.cvtColor(img, cv2.COLOR_BGR2GRAY)\n",
    "\n",
    "# #kernal sensitive to horizontal lines\n",
    "# kernel = np.array([[1, 2, 1], \n",
    "#                    [2, 4, 2],\n",
    "#                    [1, 2,  1]])\n",
    "\n",
    "kernel = np.array([[1, 2, 1], \n",
    "                   [0, 0, 0], \n",
    "                   [-1, -2, -1]])\n",
    "\n",
    "kernel_x = np.array([-1,0, 1])\n",
    "kernel_y = np.array([[1], \n",
    "                    [0], \n",
    "                    [-1]]) \n",
    "    \n",
    "# kernel = kernel/(np.sum(kernel) if np.sum(kernel)!=0 else 1)\n",
    "\n",
    "# #filter the source image\n",
    "img_x = cv2.filter2D(img,-1,kernel_x)\n",
    "img_y = cv2.filter2D(img,-1,kernel_y)\n",
    "\n",
    "f, axes = plt.subplots(figsize=(30,20))\n",
    "\n",
    "plt.subplot(121),\n",
    "plt.imshow(img,cmap = 'gray')\n",
    "# plt.title('Matching Result'), plt.xticks([]), plt.yticks([])\n",
    "plt.subplot(122),plt.imshow(img_y,cmap = 'gray')\n",
    "# plt.title('Detected Point'), plt.xticks([]), plt.yticks([])\n",
    "#     plt.suptitle(meth)\n"
   ]
  },
  {
   "cell_type": "code",
   "execution_count": null,
   "metadata": {},
   "outputs": [],
   "source": [
    "plt.figure(figsize= (15,10))\n",
    "plt.imshow(img_x + img_y, cmap='gray')"
   ]
  },
  {
   "cell_type": "code",
   "execution_count": null,
   "metadata": {},
   "outputs": [],
   "source": [
    "import cv2\n",
    "import numpy as np\n",
    "\n",
    "img = cv2.imread('mario.jpg')\n",
    "gray = cv2.cvtColor(img,cv2.COLOR_BGR2GRAY)\n",
    "edges = cv2.Canny(gray,50,150,apertureSize = 3)\n",
    "minLineLength = 100\n",
    "maxLineGap = 10\n",
    "lines = cv2.HoughLinesP(edges,1,np.pi/180,100,minLineLength,maxLineGap)\n",
    "for x1,y1,x2,y2 in lines[0]:\n",
    "    cv2.line(img,(x1,y1),(x2,y2),(0,255,0),2)\n",
    "\n",
    "# plt.imshow(img)\n",
    "# cv2.imwrite('houghlines5.jpg',img)\n",
    "cv2.imshow('ds', img)"
   ]
  },
  {
   "cell_type": "code",
   "execution_count": null,
   "metadata": {},
   "outputs": [],
   "source": []
  },
  {
   "cell_type": "code",
   "execution_count": null,
   "metadata": {},
   "outputs": [],
   "source": []
  },
  {
   "cell_type": "code",
   "execution_count": null,
   "metadata": {},
   "outputs": [],
   "source": []
  },
  {
   "cell_type": "code",
   "execution_count": null,
   "metadata": {},
   "outputs": [],
   "source": []
  }
 ],
 "metadata": {
  "kernelspec": {
   "display_name": "Python 3",
   "language": "python",
   "name": "python3"
  },
  "language_info": {
   "codemirror_mode": {
    "name": "ipython",
    "version": 3
   },
   "file_extension": ".py",
   "mimetype": "text/x-python",
   "name": "python",
   "nbconvert_exporter": "python",
   "pygments_lexer": "ipython3",
   "version": "3.8.5"
  }
 },
 "nbformat": 4,
 "nbformat_minor": 4
}
